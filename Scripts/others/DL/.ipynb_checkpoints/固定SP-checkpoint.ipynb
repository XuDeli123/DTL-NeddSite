{
 "cells": [
  {
   "cell_type": "code",
   "execution_count": 1,
   "id": "939c8f45",
   "metadata": {},
   "outputs": [],
   "source": [
    "import numpy as np\n",
    "import re, os"
   ]
  },
  {
   "cell_type": "code",
   "execution_count": 18,
   "id": "f7d8e4b9",
   "metadata": {},
   "outputs": [],
   "source": [
    "import os\n",
    "import pandas as pd\n",
    "import numpy as np\n",
    "path = r'D:\\PycharmProjects\\pythonProject\\最后2\\41window\\DL\\LSTM_OH\\result\\indeptxt'"
   ]
  },
  {
   "cell_type": "code",
   "execution_count": 22,
   "id": "cbce1d3d",
   "metadata": {},
   "outputs": [
    {
     "name": "stdout",
     "output_type": "stream",
     "text": [
      "indep_out1.txt\n",
      "indep_out10.txt\n",
      "indep_out2.txt\n",
      "indep_out3.txt\n",
      "indep_out4.txt\n",
      "indep_out5.txt\n",
      "indep_out6.txt\n",
      "indep_out7.txt\n",
      "indep_out8.txt\n",
      "indep_out9.txt\n"
     ]
    }
   ],
   "source": [
    "filename = os.listdir(path)\n",
    "for i in filename:\n",
    "    if i.startswith('i'):\n",
    "        print(i)"
   ]
  },
  {
   "cell_type": "code",
   "execution_count": 23,
   "id": "ee1678fe",
   "metadata": {},
   "outputs": [
    {
     "data": {
      "text/plain": [
       "['indep_out1.txt',\n",
       " 'indep_out10.txt',\n",
       " 'indep_out2.txt',\n",
       " 'indep_out3.txt',\n",
       " 'indep_out4.txt',\n",
       " 'indep_out5.txt',\n",
       " 'indep_out6.txt',\n",
       " 'indep_out7.txt',\n",
       " 'indep_out8.txt',\n",
       " 'indep_out9.txt']"
      ]
     },
     "execution_count": 23,
     "metadata": {},
     "output_type": "execute_result"
    }
   ],
   "source": [
    "filename"
   ]
  },
  {
   "cell_type": "code",
   "execution_count": 25,
   "id": "7c16c9fb",
   "metadata": {},
   "outputs": [],
   "source": [
    "def return_pre_res(filepath):\n",
    "    filenames = os.listdir(filepath)#得到字符串列表\n",
    "    pre_res = []\n",
    "    for i in filenames:\n",
    "        if i.startswith('i'):\n",
    "            predict_res = []\n",
    "            data  = open(os.path.join(filepath, i))\n",
    "            line = data.readlines()[1:]\n",
    "            for j in line:\n",
    "                predict_res.append(j.rstrip().split('\\t')[::-1] if j.rstrip() != '' else None)\n",
    "            pre_res.append(predict_res)\n",
    "    return np.array(pre_res).astype(np.float64)"
   ]
  },
  {
   "cell_type": "code",
   "execution_count": 26,
   "id": "fd3ba086",
   "metadata": {},
   "outputs": [],
   "source": [
    "pre_res = return_pre_res(path)"
   ]
  },
  {
   "cell_type": "code",
   "execution_count": 27,
   "id": "2242b156",
   "metadata": {},
   "outputs": [
    {
     "data": {
      "text/plain": [
       "array([[[1.0000000e+00, 1.7735440e-01],\n",
       "        [1.0000000e+00, 5.2513474e-01],\n",
       "        [1.0000000e+00, 3.8480755e-02],\n",
       "        ...,\n",
       "        [0.0000000e+00, 3.2277915e-01],\n",
       "        [0.0000000e+00, 3.9283934e-01],\n",
       "        [0.0000000e+00, 3.2340345e-01]],\n",
       "\n",
       "       [[1.0000000e+00, 5.0065750e-03],\n",
       "        [1.0000000e+00, 2.4488649e-01],\n",
       "        [1.0000000e+00, 4.7072340e-01],\n",
       "        ...,\n",
       "        [0.0000000e+00, 2.9456264e-01],\n",
       "        [0.0000000e+00, 2.4102913e-01],\n",
       "        [0.0000000e+00, 7.0533680e-01]],\n",
       "\n",
       "       [[1.0000000e+00, 6.4272230e-03],\n",
       "        [1.0000000e+00, 3.3599194e-02],\n",
       "        [1.0000000e+00, 5.7569980e-01],\n",
       "        ...,\n",
       "        [0.0000000e+00, 1.1556939e-02],\n",
       "        [0.0000000e+00, 4.5146364e-01],\n",
       "        [0.0000000e+00, 1.7426010e-01]],\n",
       "\n",
       "       ...,\n",
       "\n",
       "       [[1.0000000e+00, 2.1834016e-01],\n",
       "        [1.0000000e+00, 7.8748333e-01],\n",
       "        [1.0000000e+00, 2.7527532e-01],\n",
       "        ...,\n",
       "        [0.0000000e+00, 2.8137192e-01],\n",
       "        [0.0000000e+00, 2.7029514e-01],\n",
       "        [0.0000000e+00, 3.0115595e-01]],\n",
       "\n",
       "       [[1.0000000e+00, 3.5903874e-04],\n",
       "        [1.0000000e+00, 4.6338640e-01],\n",
       "        [1.0000000e+00, 7.4831605e-01],\n",
       "        ...,\n",
       "        [0.0000000e+00, 9.8132730e-02],\n",
       "        [0.0000000e+00, 4.9393147e-01],\n",
       "        [0.0000000e+00, 8.1495840e-01]],\n",
       "\n",
       "       [[1.0000000e+00, 5.0019800e-02],\n",
       "        [1.0000000e+00, 8.4501550e-01],\n",
       "        [1.0000000e+00, 6.9292670e-01],\n",
       "        ...,\n",
       "        [0.0000000e+00, 1.7377226e-01],\n",
       "        [0.0000000e+00, 4.2674863e-01],\n",
       "        [0.0000000e+00, 6.3900226e-01]]])"
      ]
     },
     "execution_count": 27,
     "metadata": {},
     "output_type": "execute_result"
    }
   ],
   "source": [
    "pre_res"
   ]
  },
  {
   "cell_type": "code",
   "execution_count": 28,
   "id": "d2198e83",
   "metadata": {},
   "outputs": [],
   "source": [
    "def calculate_cutoff(data, sp_value):\n",
    "    cutoffs = []\n",
    "    for fold in data:\n",
    "        neg = []\n",
    "        for value in fold:\n",
    "            if value[0] == 0.0:\n",
    "                neg.append(list(value))\n",
    "        negative = np.array(neg)\n",
    "        all_n = len(negative)\n",
    "        tn = int(sp_value*all_n)\n",
    "        fp = all_n - tn\n",
    "        data = negative[np.argsort(-negative[:,1])]\n",
    "        cutoff = data[:,1][fp]\n",
    "        cutoffs.append(cutoff)\n",
    "    return cutoffs"
   ]
  },
  {
   "cell_type": "code",
   "execution_count": 29,
   "id": "5ee0116d",
   "metadata": {},
   "outputs": [],
   "source": [
    "sp = 0.7\n",
    "a = calculate_cutoff(pre_res,sp)"
   ]
  },
  {
   "cell_type": "code",
   "execution_count": 30,
   "id": "cf7999ac",
   "metadata": {},
   "outputs": [],
   "source": [
    "# 计算并保存性能指标\n",
    "def calculate_metrics(labels, scores, cutoff=0.5, po_label=1):\n",
    "    my_metrics = {\n",
    "        'SN': 'NA',\n",
    "        'SP': 'NA',\n",
    "        'ACC': 'NA',\n",
    "        'MCC': 'NA',\n",
    "        'Recall': 'NA',\n",
    "        'Precision': 'NA',\n",
    "        'F1-score': 'NA',\n",
    "        'Cutoff': cutoff,\n",
    "    }\n",
    "\n",
    "    tp, tn, fp, fn = 0, 0, 0, 0\n",
    "    for i in range(len(scores)):\n",
    "        if labels[i] == po_label:\n",
    "            if scores[i] >= cutoff:\n",
    "                tp = tp + 1\n",
    "            else:\n",
    "                fn = fn + 1\n",
    "        else:\n",
    "            if scores[i] < cutoff:\n",
    "                tn = tn + 1\n",
    "            else:\n",
    "                fp = fp + 1\n",
    "\n",
    "    my_metrics['SN'] = tp / (tp + fn) if (tp + fn) != 0 else 'NA'\n",
    "    my_metrics['SP'] = tn / (fp + tn) if (fp + tn) != 0 else 'NA'\n",
    "    my_metrics['ACC'] = (tp + tn) / (tp + fn + tn + fp)\n",
    "    my_metrics['MCC'] = (tp * tn - fp * fn) / np.math.sqrt((tp + fp) * (tp + fn) * (tn + fp) * (tn + fn)) if (\n",
    "                                                                                                                     tp + fp) * (\n",
    "                                                                                                                     tp + fn) * (\n",
    "                                                                                                                     tn + fp) * (\n",
    "                                                                                                                     tn + fn) != 0 else 'NA'\n",
    "    my_metrics['Precision'] = tp / (tp + fp) if (tp + fp) != 0 else 'NA'\n",
    "    my_metrics['Recall'] = my_metrics['SN']\n",
    "    my_metrics['F1-score'] = 2 * tp / (2 * tp + fp + fn) if (2 * tp + fp + fn) != 0 else 'NA'\n",
    "    return my_metrics\n",
    "\n",
    "def calculate_metrics_list(data, cutoffs, label_column=0, score_column=2, po_label=1):\n",
    "    metrics_list = []\n",
    "    for index,i in enumerate(data):\n",
    "        metrics_list.append(calculate_metrics(i[:, label_column], i[:, score_column], cutoff=cutoffs[index], po_label=po_label))\n",
    "    if len(metrics_list) == 1:\n",
    "        return metrics_list\n",
    "    else:\n",
    "        mean_dict = {}\n",
    "        std_dict = {}\n",
    "        keys = metrics_list[0].keys()\n",
    "        for i in keys:\n",
    "            mean_list = []\n",
    "            for metric in metrics_list:\n",
    "                mean_list.append(metric[i])\n",
    "            mean_dict[i] = np.array(mean_list).sum() / len(metrics_list)\n",
    "            std_dict[i] = np.array(mean_list).std()\n",
    "        metrics_list.append(mean_dict)\n",
    "        metrics_list.append(std_dict)\n",
    "        return metrics_list"
   ]
  },
  {
   "cell_type": "code",
   "execution_count": 31,
   "id": "4ee1b75f",
   "metadata": {},
   "outputs": [],
   "source": [
    "aaa = calculate_metrics_list(pre_res, a, label_column=0, score_column=1, po_label=1)"
   ]
  },
  {
   "cell_type": "code",
   "execution_count": 32,
   "id": "550f6872",
   "metadata": {},
   "outputs": [],
   "source": [
    "def save_prediction_metrics_list(metrics_list, output):\n",
    "    if len(metrics_list) == 1:\n",
    "        with open(output, 'w') as f:\n",
    "            f.write('Result')\n",
    "            for keys in metrics_list[0]:\n",
    "                f.write('\\t%s' % keys)\n",
    "            f.write('\\n')\n",
    "            for i in range(len(metrics_list)):\n",
    "                f.write('value')\n",
    "                for keys in metrics_list[i]:\n",
    "                    f.write('\\t%s' % metrics_list[i][keys])\n",
    "                f.write('\\n')\n",
    "            f.close()\n",
    "    else:\n",
    "        with open(output, 'w') as f:\n",
    "            f.write('Fold')\n",
    "            for keys in metrics_list[0]:\n",
    "                f.write('\\t%s' % keys)\n",
    "            f.write('\\n')\n",
    "            for i in range(len(metrics_list)):\n",
    "                if i <= len(metrics_list)-3:\n",
    "                    f.write('%d' % (i + 1))\n",
    "                elif i == len(metrics_list)-2:\n",
    "                    f.write('mean')\n",
    "                else:\n",
    "                    f.write('std')\n",
    "                for keys in metrics_list[i]:\n",
    "                    f.write('\\t%s' % metrics_list[i][keys])\n",
    "                f.write('\\n')\n",
    "            f.close()\n",
    "    return None"
   ]
  },
  {
   "cell_type": "code",
   "execution_count": 33,
   "id": "8687d647",
   "metadata": {},
   "outputs": [],
   "source": [
    "output = r'D:\\PycharmProjects\\pythonProject\\最后2\\41window\\DL\\LSTM_OH\\result\\indeptxt\\SP0.7.txt'"
   ]
  },
  {
   "cell_type": "code",
   "execution_count": 34,
   "id": "e03ad218",
   "metadata": {},
   "outputs": [],
   "source": [
    "save_prediction_metrics_list(aaa, output)"
   ]
  },
  {
   "cell_type": "code",
   "execution_count": null,
   "id": "cc80d2a2",
   "metadata": {},
   "outputs": [],
   "source": []
  },
  {
   "cell_type": "code",
   "execution_count": null,
   "id": "2622c922",
   "metadata": {},
   "outputs": [],
   "source": []
  }
 ],
 "metadata": {
  "kernelspec": {
   "display_name": "Python 3",
   "language": "python",
   "name": "python3"
  },
  "language_info": {
   "codemirror_mode": {
    "name": "ipython",
    "version": 3
   },
   "file_extension": ".py",
   "mimetype": "text/x-python",
   "name": "python",
   "nbconvert_exporter": "python",
   "pygments_lexer": "ipython3",
   "version": "3.8.10"
  }
 },
 "nbformat": 4,
 "nbformat_minor": 5
}
