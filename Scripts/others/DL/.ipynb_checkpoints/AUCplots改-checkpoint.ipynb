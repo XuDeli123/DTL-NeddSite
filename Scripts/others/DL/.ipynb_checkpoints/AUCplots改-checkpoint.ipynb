{
 "cells": [
  {
   "cell_type": "code",
   "execution_count": 18,
   "id": "34b1d41e",
   "metadata": {},
   "outputs": [],
   "source": [
    "import numpy as np\n",
    "import re, os\n",
    "from sklearn.metrics import roc_curve, auc, precision_recall_curve\n",
    "import matplotlib.pyplot as plt\n",
    "from itertools import cycle"
   ]
  },
  {
   "cell_type": "code",
   "execution_count": 19,
   "id": "0a48abd0",
   "metadata": {},
   "outputs": [],
   "source": [
    "import os\n",
    "import pandas as pd\n",
    "import numpy as np\n",
    "path = [r'D:\\PycharmProjects\\pythonProject\\最后2\\41window\\ML\\RF_EAAC\\result\\indeptxt',r'D:\\PycharmProjects\\pythonProject\\最后2\\41window\\ML\\RF_OH\\result\\indeptxt',r'D:\\PycharmProjects\\pythonProject\\最后2\\41window\\ML\\SVM_EAAC\\result\\indeptxt',r'D:\\PycharmProjects\\pythonProject\\最后2\\41window\\ML\\SVM_OH\\result\\indeptxt',r'D:\\PycharmProjects\\pythonProject\\最后2\\41window\\DL\\LSTM_WE\\result\\indeptxt',r'D:\\PycharmProjects\\pythonProject\\最后2\\41window\\DL\\CNN_WE\\result\\indeptxt',r'D:\\PycharmProjects\\pythonProject\\最后2\\41window\\DL\\CNN_OH\\result\\indeptxt',r'D:\\PycharmProjects\\pythonProject\\最后2\\41window\\迁移模型\\NEDD迁移模型\\SUMO_NEDD\\CNN_OH\\result\\indeptxt',r'D:\\PycharmProjects\\pythonProject\\最后2\\41window\\迁移模型\\NEDD迁移模型\\Ubi_NEDD\\CNN_OH\\result\\indeptxt',r'D:\\PycharmProjects\\pythonProject\\最后2\\41window\\迁移模型\\NEDD迁移模型\\K_NEDD\\layer_CNN_OH\\freeze_3\\result\\indeptxt']"
   ]
  },
  {
   "cell_type": "code",
   "execution_count": 20,
   "id": "f5dd7e54",
   "metadata": {},
   "outputs": [],
   "source": [
    "def return_pre_res(filepath):\n",
    "    filenames = os.listdir(filepath)#得到字符串列表\n",
    "    pre_res = []\n",
    "    for i in filenames:\n",
    "        if i.startswith('i'):\n",
    "            predict_res = []\n",
    "            data  = open(os.path.join(filepath, i))\n",
    "            line = data.readlines()[1:]\n",
    "            for j in line:\n",
    "                predict_res.append(j.rstrip().split('\\t')[::-1] if j.rstrip() != '' else None)\n",
    "            pre_res.append(predict_res)\n",
    "    return np.array(pre_res).astype(np.float64)"
   ]
  },
  {
   "cell_type": "code",
   "execution_count": 21,
   "id": "8a893a7a",
   "metadata": {},
   "outputs": [],
   "source": [
    "def get_mean_roc(data, label_column=0, score_column=1):\n",
    "    tprs = []\n",
    "    aucs = []\n",
    "    mean_fpr = np.linspace(0, 1, 100)\n",
    "    for i in range(len(data)):\n",
    "        fpr, tpr, thresholds = roc_curve(data[i][:, label_column], data[i][:, score_column])\n",
    "        tprs.append(np.interp(mean_fpr, fpr, tpr))\n",
    "        tprs[-1][0] = 0.0\n",
    "        roc_auc = auc(fpr, tpr)\n",
    "        aucs.append(roc_auc)\n",
    "    mean_tpr = np.mean(tprs, axis=0)\n",
    "    mean_tpr[-1] = 1.0\n",
    "    # 计算标准差\n",
    "    std_auc = np.std(aucs)\n",
    "    return mean_fpr, mean_tpr, std_auc"
   ]
  },
  {
   "cell_type": "code",
   "execution_count": 22,
   "id": "c279c1fd",
   "metadata": {},
   "outputs": [],
   "source": [
    "fprs = []\n",
    "tprs = []\n",
    "aucs = []\n",
    "stds = []\n",
    "for p in path:\n",
    "#     filepath = os.path.join(p, file_name[3])\n",
    "    predict_res = return_pre_res(p)\n",
    "    fpr, tpr, std = get_mean_roc(predict_res)\n",
    "    fprs.append(fpr)\n",
    "    tprs.append(tpr)\n",
    "    stds.append(std)"
   ]
  },
  {
   "cell_type": "code",
   "execution_count": 23,
   "id": "9d896bb1",
   "metadata": {},
   "outputs": [],
   "source": [
    "code = ['RF_EAAC','RF_OH','SVM_EAAC','SVM_OH','LSTM_WE','CNN_WE','CNN_OH','SumoTranNEDD','UbiTranNEDD','TranNEDD']"
   ]
  },
  {
   "cell_type": "code",
   "execution_count": 24,
   "id": "8ea6d486",
   "metadata": {},
   "outputs": [],
   "source": [
    "plt.rcParams['savefig.dpi'] = 600 #图片像素"
   ]
  },
  {
   "cell_type": "code",
   "execution_count": 25,
   "id": "760c1508",
   "metadata": {},
   "outputs": [],
   "source": [
    "output = r'D:\\PycharmProjects\\pythonProject\\最后2\\41window\\AUCplot2'"
   ]
  },
  {
   "cell_type": "code",
   "execution_count": 26,
   "id": "49621d07",
   "metadata": {},
   "outputs": [],
   "source": [
    "# colors = cycle(['green', 'darkgoldenrod', 'crimson', 'blue', 'crimson', 'silver', 'magenta'])\n",
    "colors = cycle(['darkgreen', 'blue', 'purple', 'purple', 'crimson', 'silver', 'magenta'])\n",
    "fig = plt.figure(figsize=(7,7))\n",
    "for i, color in zip(range(len(fprs)), colors):\n",
    "    mean_auc = auc(fprs[i], tprs[i])\n",
    "    plt.plot(fprs[i], tprs[i], lw=1.5, alpha=0.8, color=color,\n",
    "                 label='%s (AUC = %0.3f $\\pm$ %0.3f)' % (code[i], mean_auc, stds[i]))\n",
    "plt.plot([0, 1], [0, 1], linestyle='--', lw=2, color='slategray',\n",
    "         label='Random', alpha=.9)\n",
    "plt.xlim([0, 1.0])\n",
    "plt.ylim([0, 1.0])\n",
    "plt.xlabel('False Positive Rate')\n",
    "plt.ylabel('True Positive Rate')\n",
    "plt.legend(loc=\"lower right\")\n",
    "plt.savefig(output)\n",
    "plt.close(0)"
   ]
  },
  {
   "cell_type": "code",
   "execution_count": 27,
   "id": "4870fc89",
   "metadata": {},
   "outputs": [
    {
     "ename": "NameError",
     "evalue": "name 'tprs_val' is not defined",
     "output_type": "error",
     "traceback": [
      "\u001b[1;31m---------------------------------------------------------------------------\u001b[0m",
      "\u001b[1;31mNameError\u001b[0m                                 Traceback (most recent call last)",
      "\u001b[1;32m<ipython-input-27-be1df9aa11dc>\u001b[0m in \u001b[0;36m<module>\u001b[1;34m\u001b[0m\n\u001b[0;32m      1\u001b[0m \u001b[0mplt\u001b[0m\u001b[1;33m.\u001b[0m\u001b[0mplot\u001b[0m\u001b[1;33m(\u001b[0m\u001b[1;33m[\u001b[0m\u001b[1;36m0\u001b[0m\u001b[1;33m,\u001b[0m \u001b[1;36m1\u001b[0m\u001b[1;33m]\u001b[0m\u001b[1;33m,\u001b[0m \u001b[1;33m[\u001b[0m\u001b[1;36m0\u001b[0m\u001b[1;33m,\u001b[0m \u001b[1;36m1\u001b[0m\u001b[1;33m]\u001b[0m\u001b[1;33m,\u001b[0m \u001b[0mlinestyle\u001b[0m\u001b[1;33m=\u001b[0m\u001b[1;34m'--'\u001b[0m\u001b[1;33m,\u001b[0m \u001b[0mlw\u001b[0m\u001b[1;33m=\u001b[0m\u001b[1;36m2\u001b[0m\u001b[1;33m,\u001b[0m \u001b[0mcolor\u001b[0m\u001b[1;33m=\u001b[0m\u001b[1;34m'r'\u001b[0m\u001b[1;33m,\u001b[0m\u001b[0mlabel\u001b[0m\u001b[1;33m=\u001b[0m\u001b[1;34m'Chance'\u001b[0m\u001b[1;33m,\u001b[0m \u001b[0malpha\u001b[0m\u001b[1;33m=\u001b[0m\u001b[1;36m.8\u001b[0m\u001b[1;33m)\u001b[0m\u001b[1;33m\u001b[0m\u001b[1;33m\u001b[0m\u001b[0m\n\u001b[1;32m----> 2\u001b[1;33m \u001b[0mmean_tpr_val\u001b[0m \u001b[1;33m=\u001b[0m \u001b[0mnp\u001b[0m\u001b[1;33m.\u001b[0m\u001b[0mmean\u001b[0m\u001b[1;33m(\u001b[0m\u001b[0mtprs_val\u001b[0m\u001b[1;33m,\u001b[0m \u001b[0maxis\u001b[0m\u001b[1;33m=\u001b[0m\u001b[1;36m0\u001b[0m\u001b[1;33m)\u001b[0m\u001b[1;33m\u001b[0m\u001b[1;33m\u001b[0m\u001b[0m\n\u001b[0m\u001b[0;32m      3\u001b[0m \u001b[0mmean_tpr_val\u001b[0m\u001b[1;33m[\u001b[0m\u001b[1;33m-\u001b[0m\u001b[1;36m1\u001b[0m\u001b[1;33m]\u001b[0m \u001b[1;33m=\u001b[0m \u001b[1;36m1.0\u001b[0m\u001b[1;33m\u001b[0m\u001b[1;33m\u001b[0m\u001b[0m\n\u001b[0;32m      4\u001b[0m \u001b[0mmean_auc_val\u001b[0m \u001b[1;33m=\u001b[0m \u001b[0mauc\u001b[0m\u001b[1;33m(\u001b[0m\u001b[0mmean_fpr_val\u001b[0m\u001b[1;33m,\u001b[0m \u001b[0mmean_tpr_val\u001b[0m\u001b[1;33m)\u001b[0m\u001b[1;33m\u001b[0m\u001b[1;33m\u001b[0m\u001b[0m\n\u001b[0;32m      5\u001b[0m \u001b[0mstd_auc_val\u001b[0m \u001b[1;33m=\u001b[0m \u001b[0mnp\u001b[0m\u001b[1;33m.\u001b[0m\u001b[0mstd\u001b[0m\u001b[1;33m(\u001b[0m\u001b[0mroc_auc_list_val\u001b[0m\u001b[1;33m)\u001b[0m\u001b[1;33m\u001b[0m\u001b[1;33m\u001b[0m\u001b[0m\n",
      "\u001b[1;31mNameError\u001b[0m: name 'tprs_val' is not defined"
     ]
    }
   ],
   "source": [
    "plt.plot([0, 1], [0, 1], linestyle='--', lw=2, color='r',label='Chance', alpha=.8)\n",
    "mean_tpr_val = np.mean(tprs_val, axis=0)\n",
    "mean_tpr_val[-1] = 1.0\n",
    "mean_auc_val = auc(mean_fpr_val, mean_tpr_val)\n",
    "std_auc_val = np.std(roc_auc_list_val)\n",
    "plt.plot(mean_fpr_val, mean_tpr_val, color='b',label=r'Mean ROC (AUC = %0.3f $\\pm$ %0.3f)' % (mean_auc_val, std_auc_val),lw=2, alpha=.8)\n",
    "plt.plot(mean_fpr_val, mean_tpr_val, color='b',label=r'Mean ROC (AUC = %0.4f)' % (mean_auc_val),lw=2, alpha=.8)\n",
    "std_tpr_val = np.std(tprs_val, axis=0)\n",
    "tprs_upper_val = np.minimum(mean_tpr_val + std_tpr_val, 1)\n",
    "tprs_lower_val = np.maximum(mean_tpr_val - std_tpr_val, 0)\n",
    "plt.fill_between(mean_fpr_val, tprs_lower_val, tprs_upper_val, color='grey', alpha=.2,label=r'$\\pm$ 1 std. dev.')\n",
    "plt.xlim([-0.01, 1.01])\n",
    "plt.ylim([-0.01, 1.01])\n",
    "plt.xlabel('False Positive Rate',fontsize=10)\n",
    "plt.ylabel('True Positive Rate',fontsize=10)\n",
    "plt.title('Cross-Validation ROC',fontsize=10)\n",
    "plt.legend(loc=\"lower right\", prop={'size': 8})\n",
    "plt.savefig('CNN_OH_val_mean.png')\n",
    "plt.show()"
   ]
  },
  {
   "cell_type": "code",
   "execution_count": null,
   "id": "f2f9c15a",
   "metadata": {},
   "outputs": [],
   "source": []
  },
  {
   "cell_type": "code",
   "execution_count": null,
   "id": "4b7ace45",
   "metadata": {},
   "outputs": [],
   "source": []
  }
 ],
 "metadata": {
  "kernelspec": {
   "display_name": "Python 3",
   "language": "python",
   "name": "python3"
  },
  "language_info": {
   "codemirror_mode": {
    "name": "ipython",
    "version": 3
   },
   "file_extension": ".py",
   "mimetype": "text/x-python",
   "name": "python",
   "nbconvert_exporter": "python",
   "pygments_lexer": "ipython3",
   "version": "3.8.10"
  }
 },
 "nbformat": 4,
 "nbformat_minor": 5
}
