{
 "cells": [
  {
   "cell_type": "code",
   "execution_count": 11,
   "id": "d822220b",
   "metadata": {},
   "outputs": [],
   "source": [
    "import numpy as np\n",
    "import re, os\n",
    "from sklearn.metrics import roc_curve, auc, precision_recall_curve\n",
    "import matplotlib.pyplot as plt\n",
    "from itertools import cycle"
   ]
  },
  {
   "cell_type": "code",
   "execution_count": 20,
   "id": "e5159331",
   "metadata": {},
   "outputs": [],
   "source": [
    "#import os\n",
    "#import pandas as pd\n",
    "#import numpy as np\n",
    "#path = [r'D:\\PycharmProjects\\pythonProject\\最后2\\41window\\ML\\RF_EAAC\\result\\indeptxt',r'D:\\PycharmProjects\\pythonProject\\最后2\\41window\\ML\\RF_OH\\result\\indeptxt',r'D:\\PycharmProjects\\pythonProject\\最后2\\41window\\ML\\SVM_EAAC\\result\\indeptxt',r'D:\\PycharmProjects\\pythonProject\\最后2\\41window\\ML\\SVM_OH\\result\\indeptxt',r'D:\\PycharmProjects\\pythonProject\\最后2\\41window\\DL\\LSTM_WE\\result\\indeptxt',r'D:\\PycharmProjects\\pythonProject\\最后2\\41window\\DL\\CNN_WE\\result\\indeptxt',r'D:\\PycharmProjects\\pythonProject\\最后2\\41window\\DL\\CNN_OH\\result\\indeptxt',r'D:\\PycharmProjects\\pythonProject\\最后2\\41window\\迁移模型\\NEDD迁移模型\\K_NEDD\\layer_CNN_OH\\freeze_3\\result\\indeptxt']"
   ]
  },
  {
   "cell_type": "code",
   "execution_count": 28,
   "id": "2a276a69",
   "metadata": {},
   "outputs": [],
   "source": [
    "import os\n",
    "import pandas as pd\n",
    "import numpy as np\n",
    "path = [r'D:\\PycharmProjects\\pythonProject\\最后2\\41window\\ML\\SVM_EAAC\\result\\indeptxt',r'D:\\PycharmProjects\\pythonProject\\最后2\\41window\\DL\\CNN_OH\\result\\indeptxt',r'D:\\PycharmProjects\\pythonProject\\最后2\\41window\\迁移模型\\NEDD迁移模型\\K_NEDD\\layer_CNN_OH\\freeze_3\\result\\indeptxt']"
   ]
  },
  {
   "cell_type": "code",
   "execution_count": 29,
   "id": "9c233786",
   "metadata": {},
   "outputs": [],
   "source": [
    "def return_pre_res(filepath):\n",
    "    filenames = os.listdir(filepath)#得到字符串列表\n",
    "    pre_res = []\n",
    "    for i in filenames:\n",
    "        if i.startswith('i'):\n",
    "            predict_res = []\n",
    "            data  = open(os.path.join(filepath, i))\n",
    "            line = data.readlines()[1:]\n",
    "            for j in line:\n",
    "                predict_res.append(j.rstrip().split('\\t')[::-1] if j.rstrip() != '' else None)\n",
    "            pre_res.append(predict_res)\n",
    "    return np.array(pre_res).astype(np.float64)"
   ]
  },
  {
   "cell_type": "code",
   "execution_count": 30,
   "id": "23b3be0a",
   "metadata": {},
   "outputs": [],
   "source": [
    "def get_mean_roc(data, label_column=0, score_column=1):\n",
    "    tprs = []\n",
    "    aucs = []\n",
    "    mean_fpr = np.linspace(0, 1, 100)\n",
    "    for i in range(len(data)):\n",
    "        fpr, tpr, thresholds = roc_curve(data[i][:, label_column], data[i][:, score_column])\n",
    "        tprs.append(np.interp(mean_fpr, fpr, tpr))\n",
    "        tprs[-1][0] = 0.0\n",
    "        roc_auc = auc(fpr, tpr)\n",
    "        aucs.append(roc_auc)\n",
    "    mean_tpr = np.mean(tprs, axis=0)\n",
    "    mean_tpr[-1] = 1.0\n",
    "    # 计算标准差\n",
    "    std_auc = np.std(aucs)\n",
    "    return mean_fpr, mean_tpr, std_auc"
   ]
  },
  {
   "cell_type": "code",
   "execution_count": 31,
   "id": "fb777980",
   "metadata": {},
   "outputs": [],
   "source": [
    "fprs = []\n",
    "tprs = []\n",
    "stds = []\n",
    "for p in path:\n",
    "#     filepath = os.path.join(p, file_name[3])\n",
    "    predict_res = return_pre_res(p)\n",
    "    fpr, tpr, std = get_mean_roc(predict_res)\n",
    "    fprs.append(fpr)\n",
    "    tprs.append(tpr)\n",
    "    stds.append(std)"
   ]
  },
  {
   "cell_type": "code",
   "execution_count": null,
   "id": "0bc027cc",
   "metadata": {},
   "outputs": [],
   "source": [
    "#code = ['RF_EAAC','RF_OH','SVM_EAAC','SVM_OH','LSTM_WE','CNN_WE','CNN_OH','TranNEDD']"
   ]
  },
  {
   "cell_type": "code",
   "execution_count": 32,
   "id": "b0463bd1",
   "metadata": {},
   "outputs": [],
   "source": [
    "code = ['SVM_EAAC','CNN_OH','TranNEDD']"
   ]
  },
  {
   "cell_type": "code",
   "execution_count": 33,
   "id": "8c0e8a7b",
   "metadata": {},
   "outputs": [],
   "source": [
    "plt.rcParams['savefig.dpi'] = 600 #图片像素"
   ]
  },
  {
   "cell_type": "code",
   "execution_count": 34,
   "id": "cfa6702e",
   "metadata": {},
   "outputs": [],
   "source": [
    "output = r'D:\\PycharmProjects\\pythonProject\\最后2\\41window\\AUCplot'"
   ]
  },
  {
   "cell_type": "code",
   "execution_count": 36,
   "id": "9d958054",
   "metadata": {
    "scrolled": false
   },
   "outputs": [],
   "source": [
    "# colors = cycle(['green', 'darkgoldenrod', 'crimson', 'blue', 'crimson', 'silver', 'magenta'])\n",
    "colors = cycle(['darkgreen', 'blue', 'Red', 'purple', 'crimson', 'silver', 'magenta'])\n",
    "fig = plt.figure(figsize=(7,7))\n",
    "for i, color in zip(range(len(fprs)), colors):\n",
    "    mean_auc = auc(fprs[i], tprs[i])\n",
    "    plt.plot(fprs[i], tprs[i], lw=1.5, alpha=0.8, color=color,\n",
    "                 label='%s (AUC = %0.3f $\\pm$ %0.3f)' % (code[i], mean_auc, stds[i]))\n",
    "plt.plot([0, 1], [0, 1], linestyle='--', lw=2, color='slategray',\n",
    "         label='Random', alpha=.9)\n",
    "plt.xlim([0, 1.0])\n",
    "plt.ylim([0, 1.0])\n",
    "plt.xlabel('False Positive Rate')\n",
    "plt.ylabel('True Positive Rate')\n",
    "plt.legend(loc=\"lower right\")\n",
    "plt.savefig(output)\n",
    "plt.close(0)"
   ]
  },
  {
   "cell_type": "code",
   "execution_count": null,
   "id": "ba4857c6",
   "metadata": {},
   "outputs": [],
   "source": []
  }
 ],
 "metadata": {
  "kernelspec": {
   "display_name": "Python 3",
   "language": "python",
   "name": "python3"
  },
  "language_info": {
   "codemirror_mode": {
    "name": "ipython",
    "version": 3
   },
   "file_extension": ".py",
   "mimetype": "text/x-python",
   "name": "python",
   "nbconvert_exporter": "python",
   "pygments_lexer": "ipython3",
   "version": "3.8.10"
  }
 },
 "nbformat": 4,
 "nbformat_minor": 5
}
