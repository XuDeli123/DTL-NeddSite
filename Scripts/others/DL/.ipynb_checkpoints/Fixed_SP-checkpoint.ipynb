{
 "cells": [
  {
   "cell_type": "code",
   "execution_count": 1,
   "id": "a44fc32b",
   "metadata": {},
   "outputs": [],
   "source": [
    "import numpy as np\n",
    "import re, os"
   ]
  },
  {
   "cell_type": "code",
   "execution_count": 2,
   "id": "c768bb63",
   "metadata": {},
   "outputs": [],
   "source": [
    "os.chdir(os.path.pardir)"
   ]
  },
  {
   "cell_type": "code",
   "execution_count": 3,
   "id": "c6728c7c",
   "metadata": {},
   "outputs": [],
   "source": [
    "filepath = os.path.join(os.getcwd(), r'ML_Result\\LightGBM\\ZScale\\zscale_pre_cv.txt')"
   ]
  },
  {
   "cell_type": "code",
   "execution_count": 22,
   "id": "b7ad4ddc",
   "metadata": {},
   "outputs": [],
   "source": [
    "def read_pre_res(filepath):\n",
    "    with open(filepath) as f:\n",
    "        records = f.readlines()\n",
    "        f.close()\n",
    "        res = []\n",
    "        for i in records:\n",
    "            if 'fold ' in i:\n",
    "                fold_res = []\n",
    "                res.append(fold_res)\n",
    "                continue\n",
    "            fold_res.append(i.rstrip().split('\\t') if i.rstrip() != '' else None)\n",
    "    return np.array(res).astype(np.float64)"
   ]
  },
  {
   "cell_type": "code",
   "execution_count": 23,
   "id": "89b5b36a",
   "metadata": {},
   "outputs": [],
   "source": [
    "zscale_pre_ind = read_pre_res(filepath)"
   ]
  },
  {
   "cell_type": "code",
   "execution_count": 24,
   "id": "cedb50ea",
   "metadata": {},
   "outputs": [],
   "source": [
    "def calculate_cutoff(data, sp_value):\n",
    "    cutoffs = []\n",
    "    for fold in data:\n",
    "        neg = []\n",
    "        for value in fold:\n",
    "            if value[0] == 0.0:\n",
    "                neg.append(list(value))\n",
    "        negative = np.array(neg)\n",
    "        all_n = len(negative)\n",
    "        tn = int(sp_value*all_n)\n",
    "        fp = all_n - tn\n",
    "        data = negative[np.argsort(-negative[:,1])]\n",
    "        cutoff = data[:,1][fp]\n",
    "        cutoffs.append(cutoff)\n",
    "    return cutoffs"
   ]
  },
  {
   "cell_type": "code",
   "execution_count": 25,
   "id": "4c7bc0aa",
   "metadata": {},
   "outputs": [],
   "source": [
    "sp = 0.65\n",
    "a = calculate_cutoff(zscale_pre_ind,sp)"
   ]
  },
  {
   "cell_type": "code",
   "execution_count": 26,
   "id": "c7769329",
   "metadata": {},
   "outputs": [],
   "source": [
    "# 计算并保存性能指标\n",
    "def calculate_metrics(labels, scores, cutoff=0.5, po_label=1):\n",
    "    my_metrics = {\n",
    "        'SN': 'NA',\n",
    "        'SP': 'NA',\n",
    "        'ACC': 'NA',\n",
    "        'MCC': 'NA',\n",
    "        'Recall': 'NA',\n",
    "        'Precision': 'NA',\n",
    "        'F1-score': 'NA',\n",
    "        'Cutoff': cutoff,\n",
    "    }\n",
    "\n",
    "    tp, tn, fp, fn = 0, 0, 0, 0\n",
    "    for i in range(len(scores)):\n",
    "        if labels[i] == po_label:\n",
    "            if scores[i] >= cutoff:\n",
    "                tp = tp + 1\n",
    "            else:\n",
    "                fn = fn + 1\n",
    "        else:\n",
    "            if scores[i] < cutoff:\n",
    "                tn = tn + 1\n",
    "            else:\n",
    "                fp = fp + 1\n",
    "\n",
    "    my_metrics['SN'] = tp / (tp + fn) if (tp + fn) != 0 else 'NA'\n",
    "    my_metrics['SP'] = tn / (fp + tn) if (fp + tn) != 0 else 'NA'\n",
    "    my_metrics['ACC'] = (tp + tn) / (tp + fn + tn + fp)\n",
    "    my_metrics['MCC'] = (tp * tn - fp * fn) / np.math.sqrt((tp + fp) * (tp + fn) * (tn + fp) * (tn + fn)) if (\n",
    "                                                                                                                     tp + fp) * (\n",
    "                                                                                                                     tp + fn) * (\n",
    "                                                                                                                     tn + fp) * (\n",
    "                                                                                                                     tn + fn) != 0 else 'NA'\n",
    "    my_metrics['Precision'] = tp / (tp + fp) if (tp + fp) != 0 else 'NA'\n",
    "    my_metrics['Recall'] = my_metrics['SN']\n",
    "    my_metrics['F1-score'] = 2 * tp / (2 * tp + fp + fn) if (2 * tp + fp + fn) != 0 else 'NA'\n",
    "    return my_metrics\n",
    "\n",
    "def calculate_metrics_list(data, cutoffs, label_column=0, score_column=2, po_label=1):\n",
    "    metrics_list = []\n",
    "    for index,i in enumerate(data):\n",
    "        metrics_list.append(calculate_metrics(i[:, label_column], i[:, score_column], cutoff=cutoffs[index], po_label=po_label))\n",
    "    if len(metrics_list) == 1:\n",
    "        return metrics_list\n",
    "    else:\n",
    "        mean_dict = {}\n",
    "        std_dict = {}\n",
    "        keys = metrics_list[0].keys()\n",
    "        for i in keys:\n",
    "            mean_list = []\n",
    "            for metric in metrics_list:\n",
    "                mean_list.append(metric[i])\n",
    "            mean_dict[i] = np.array(mean_list).sum() / len(metrics_list)\n",
    "            std_dict[i] = np.array(mean_list).std()\n",
    "        metrics_list.append(mean_dict)\n",
    "        metrics_list.append(std_dict)\n",
    "        return metrics_list"
   ]
  },
  {
   "cell_type": "code",
   "execution_count": 27,
   "id": "bc14ef94",
   "metadata": {},
   "outputs": [],
   "source": [
    "aaa = calculate_metrics_list(zscale_pre_ind, a, label_column=0, score_column=1, po_label=1)"
   ]
  },
  {
   "cell_type": "code",
   "execution_count": 28,
   "id": "c26d7168",
   "metadata": {},
   "outputs": [],
   "source": [
    "def save_prediction_metrics_list(metrics_list, output):\n",
    "    if len(metrics_list) == 1:\n",
    "        with open(output, 'w') as f:\n",
    "            f.write('Result')\n",
    "            for keys in metrics_list[0]:\n",
    "                f.write('\\t%s' % keys)\n",
    "            f.write('\\n')\n",
    "            for i in range(len(metrics_list)):\n",
    "                f.write('value')\n",
    "                for keys in metrics_list[i]:\n",
    "                    f.write('\\t%s' % metrics_list[i][keys])\n",
    "                f.write('\\n')\n",
    "            f.close()\n",
    "    else:\n",
    "        with open(output, 'w') as f:\n",
    "            f.write('Fold')\n",
    "            for keys in metrics_list[0]:\n",
    "                f.write('\\t%s' % keys)\n",
    "            f.write('\\n')\n",
    "            for i in range(len(metrics_list)):\n",
    "                if i <= len(metrics_list)-3:\n",
    "                    f.write('%d' % (i + 1))\n",
    "                elif i == len(metrics_list)-2:\n",
    "                    f.write('mean')\n",
    "                else:\n",
    "                    f.write('std')\n",
    "                for keys in metrics_list[i]:\n",
    "                    f.write('\\t%s' % metrics_list[i][keys])\n",
    "                f.write('\\n')\n",
    "            f.close()\n",
    "    return None"
   ]
  },
  {
   "cell_type": "code",
   "execution_count": 29,
   "id": "cf2c7f3c",
   "metadata": {},
   "outputs": [],
   "source": [
    "output = r'D:\\研一下学期\\生信群论文及文档\\尉溪林\\a.txt'"
   ]
  },
  {
   "cell_type": "code",
   "execution_count": 30,
   "id": "ed2f178c",
   "metadata": {},
   "outputs": [],
   "source": [
    "save_prediction_metrics_list(aaa, output)"
   ]
  },
  {
   "cell_type": "code",
   "execution_count": null,
   "id": "960a9dfc",
   "metadata": {},
   "outputs": [],
   "source": []
  }
 ],
 "metadata": {
  "kernelspec": {
   "display_name": "Python 3",
   "language": "python",
   "name": "python3"
  },
  "language_info": {
   "codemirror_mode": {
    "name": "ipython",
    "version": 3
   },
   "file_extension": ".py",
   "mimetype": "text/x-python",
   "name": "python",
   "nbconvert_exporter": "python",
   "pygments_lexer": "ipython3",
   "version": "3.8.10"
  }
 },
 "nbformat": 4,
 "nbformat_minor": 5
}
